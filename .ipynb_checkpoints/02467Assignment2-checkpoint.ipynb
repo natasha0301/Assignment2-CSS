{
 "cells": [
  {
   "cell_type": "markdown",
   "metadata": {},
   "source": [
    "# 02467 Assignment 2\n",
    "s204085 Cornelius Erichs & s204076 Natasha Hougaard\n",
    "\n",
    "#### GitHub repository\n",
    "Here is our repository on GitHub: https://github.com/natasha0301/Assigment2-CSS\n",
    "\n",
    "The commit history does not represent the true story of collaboration, as it was worked on by both of us at the sametime while sharing our screen on zoom, or looking over the other persons shoulder."
   ]
  },
  {
   "cell_type": "markdown",
   "metadata": {},
   "source": [
    "## Part 1: Mixing Patterns and Assortativity"
   ]
  },
  {
   "cell_type": "markdown",
   "metadata": {},
   "source": [
    "For each node, compute the fraction of edges that connect to a node that works in the same top field. Find the average value across all nodes."
   ]
  },
  {
   "cell_type": "code",
   "execution_count": 3,
   "metadata": {},
   "outputs": [
    {
     "name": "stdout",
     "output_type": "stream",
     "text": [
      "0.5842856084183233\n"
     ]
    }
   ],
   "source": [
    "from networkx.readwrite import json_graph\n",
    "import networkx as nx\n",
    "import json\n",
    "import numpy as np\n",
    "import pandas as pd\n",
    "\n",
    "def read_json_file(filename):\n",
    "    with open(filename) as f:\n",
    "        js_graph = json.load(f)\n",
    "    return json_graph.node_link_graph(js_graph)\n",
    "G = read_json_file(\"data_total.json\")\n",
    "\n",
    "def same_field(G):\n",
    "    same_field_fractions = []\n",
    "    for node in G.nodes():\n",
    "        same_field_neighbors = 0\n",
    "        total_neighbors = 0\n",
    "        \n",
    "        for neighbor in G.neighbors(node):\n",
    "            if G.nodes[neighbor][\"field\"] == G.nodes[node][\"field\"]:\n",
    "                same_field_neighbors += 1\n",
    "            total_neighbors += 1\n",
    "        \n",
    "        if total_neighbors > 0:\n",
    "            same_field_fraction = same_field_neighbors / total_neighbors\n",
    "        else:\n",
    "            same_field_fraction = 0\n",
    "        same_field_fractions.append(same_field_fraction)\n",
    "    return same_field_fractions\n",
    "\n",
    "same_field_fractions = same_field(G)\n",
    "print(np.mean(same_field(G)))"
   ]
  },
  {
   "cell_type": "markdown",
   "metadata": {},
   "source": [
    "Create a new graph, with the same nodes and edges, but where the association between nodes and field is shuffled. Compute the measure above for this randomized graph."
   ]
  },
  {
   "cell_type": "code",
   "execution_count": 4,
   "metadata": {},
   "outputs": [
    {
     "name": "stdout",
     "output_type": "stream",
     "text": [
      "0.18158584310381023\n"
     ]
    }
   ],
   "source": [
    "import random\n",
    "\n",
    "shuffled_G = G.copy()\n",
    "\n",
    "fields = [G.nodes[node][\"field\"] for node in G.nodes()]\n",
    "random.shuffle(fields)\n",
    "\n",
    "for i, node in enumerate(shuffled_G.nodes()):\n",
    "    shuffled_G.nodes[node][\"field\"] = fields[i]\n",
    "    \n",
    "print(np.mean(same_field(shuffled_G)))"
   ]
  },
  {
   "cell_type": "markdown",
   "metadata": {},
   "source": [
    "Repeat the point above 100 times (at least). Plot the distribution of the values obtained and compare it with the value you have found for the real graph. Is the chance to connect to a member of the same field significantly higher than it would be by chance?"
   ]
  },
  {
   "cell_type": "code",
   "execution_count": 6,
   "metadata": {},
   "outputs": [
    {
     "data": {
      "text/plain": [
       "(array([  3.,   9.,  28.,  78., 113., 113.,  90.,  50.,  12.,   4.]),\n",
       " array([0.17209527, 0.17330026, 0.17450525, 0.17571023, 0.17691522,\n",
       "        0.17812021, 0.17932519, 0.18053018, 0.18173517, 0.18294015,\n",
       "        0.18414514]),\n",
       " <BarContainer object of 10 artists>)"
      ]
     },
     "execution_count": 6,
     "metadata": {},
     "output_type": "execute_result"
    },
    {
     "data": {
      "image/png": "[encoded data removed]",
      "text/plain": [
       "<Figure size 432x288 with 1 Axes>"
      ]
     },
     "metadata": {
      "needs_background": "light"
     },
     "output_type": "display_data"
    }
   ],
   "source": [
    "import matplotlib.pyplot as plt\n",
    "results = []\n",
    "for i in range(500):\n",
    "    random.shuffle(fields)\n",
    "\n",
    "    for i, node in enumerate(shuffled_G.nodes()):\n",
    "        shuffled_G.nodes[node][\"field\"] = fields[i]\n",
    "    \n",
    "    results.append(np.mean(same_field(shuffled_G)))\n",
    "    \n",
    "plt.hist(results)"
   ]
  },
  {
   "cell_type": "markdown",
   "metadata": {},
   "source": [
    "Compute the assortativity coefficient with respect to author's field. How do you interpret the value you obtain? "
   ]
  },
  {
   "cell_type": "code",
   "execution_count": 7,
   "metadata": {},
   "outputs": [
    {
     "name": "stdout",
     "output_type": "stream",
     "text": [
      "['Agricultural And Food Sciences' 'Art' 'Business' 'Chemistry'\n",
      " 'Computer Science' 'Economics' 'Education' 'Engineering'\n",
      " 'Environmental Science' 'Geography' 'Geology' 'History' 'Law'\n",
      " 'Linguistics' 'Materials Science' 'Mathematics' 'Medicine' 'Philosophy'\n",
      " 'Physics' 'Political Science' 'Psychology' 'Sociology' 'nan']\n",
      "0.7106920785154831\n"
     ]
    }
   ],
   "source": [
    "print(np.unique(fields))\n",
    "unique_fields = {'Agricultural And Food Sciences' : 0,\n",
    "            'Art' : 1,\n",
    "            'Business' : 2,\n",
    "            'Chemistry' : 3,\n",
    "            'Computer Science' : 4,\n",
    "            'Economics' : 5,\n",
    "            'Education' : 6,\n",
    "            'Engineering' : 7,\n",
    "            'Environmental Science' : 8,\n",
    "            'Geography' : 9,\n",
    "            'Geology' : 10,\n",
    "            'History' : 11,\n",
    "            'Law' : 12,\n",
    "            'Linguistics': 13,\n",
    "            'Materials Science': 14,\n",
    "            'Mathematics': 15,\n",
    "            'Medicine': 16,\n",
    "            'Philosophy' : 17,\n",
    "            'Physics' : 18,\n",
    "            'Political Science' : 19,\n",
    "            'Psychology' : 20,\n",
    "            'Sociology' : 21,\n",
    "            None:22}\n",
    "\n",
    "matrix = np.zeros((len(unique_fields),len(unique_fields)))\n",
    "\n",
    "values = nx.get_node_attributes(G, \"field\").values()\n",
    "num_values = len(values)\n",
    "\n",
    "for start, end in G.edges(): # Looping over all edges in graph (since its undirected its not really start and stop)\n",
    "    x = G.nodes[start][\"field\"] # Getting the start point of the edge \n",
    "    y = G.nodes[end][\"field\"] # Getting the end point of the edge \n",
    "    if x in unique_fields: \n",
    "        x = unique_fields[x]\n",
    "    else:\n",
    "        x = unique_fields[None] # in case x is nan\n",
    "        \n",
    "    if y in unique_fields:\n",
    "        y = unique_fields[y]\n",
    "    else:\n",
    "        y = unique_fields[None] # in case y is nan\n",
    "    matrix[x, y] += 1 \n",
    "    \n",
    "num_edges = len(G.edges())\n",
    "matrix /= num_edges # averaging the occurence with the total edges\n",
    "\n",
    "trace = np.trace(matrix) # trace of the matrix, the sum of the diagonal entries\n",
    "mix_matrix = np.sum(np.matmul(matrix, matrix))\n",
    "\n",
    "r1 = (trace-mix_matrix)/(1-mix_matrix) # Eq. 2\n",
    "print(r1)"
   ]
  },
  {
   "cell_type": "markdown",
   "metadata": {},
   "source": [
    "The result of 0.71 indicated some clusters of nodes are formed based on their top field, but there are also occurences where this is not the case. With 0 indicating random mixing we can see that their field plays some kind of role."
   ]
  },
  {
   "cell_type": "markdown",
   "metadata": {},
   "source": [
    "Is the graph assortative with respect to the degree? (e.g. do high-degree scientists tend to link to other high-degree scientists, and low-degree scientists to other low-degree scientists?). Provide an interpretation of your answer."
   ]
  },
  {
   "cell_type": "markdown",
   "metadata": {},
   "source": [
    "If the assortativity coefficient is > 0, it suggests that nodes with similar degrees tend to be connected to each other, indicating assortative mixing w.r.t. the degree. And if the assortativity coefficient is < 0, it suggests that nodes with different degrees tend to be connected to each other, indicating disassortative mixing w.r.t. the degree. \n",
    "\n",
    "A value of 0.71 for the assortativity coefficient suggests that there is a degree of assortative mixing for the authors with respect to the their top fields. In other words, authors with the same top field are more likely to be connected to each other than to nodes with different top fields."
   ]
  },
  {
   "cell_type": "markdown",
   "metadata": {},
   "source": [
    "## Part 2: Communities"
   ]
  },
  {
   "cell_type": "markdown",
   "metadata": {},
   "source": [
    "**EXERCISE 2: ZACHARYS'S KARATE CLUB**\n",
    "\n",
    "In this exercise, we will work on Zarachy's karate club graph (refer to the Introduction of Chapter 9). The dataset is available in NetworkX, by calling the function karate_club_graph"
   ]
  },
  {
   "cell_type": "markdown",
   "metadata": {},
   "source": [
    "1. Visualize the graph using netwulf. Set the color of each node based on the club split"
   ]
  },
  {
   "cell_type": "code",
   "execution_count": null,
   "metadata": {},
   "outputs": [],
   "source": [
    "import matplotlib.pyplot as plt\n",
    "import networkx as nx\n",
    "from netwulf import visualize\n",
    "\n",
    "G = nx.karate_club_graph()\n",
    "\n",
    "#First we set the color of each node based on the club split\n",
    "colors = ['red' if G.nodes[n]['club'] == 'Mr. Hi' else 'blue' for n in G.nodes()]\n",
    "\n",
    "#Then we add the colors to the node attributes\n",
    "for i, n in enumerate(G.nodes()):\n",
    "    G.nodes[n]['color'] = colors[i]\n",
    "\n",
    "#Visualize the graph\n",
    "visualize(G)"
   ]
  },
  {
   "cell_type": "markdown",
   "metadata": {},
   "source": [
    "2. Write a function to compute the modularity of a graph partitioning using equation 9.12 in the book: \n",
    "\n",
    "$M=\\sum_{c=1}^{n_c}\\left[\\frac{L_c}{L}-(\\frac{k_c}{2L})^2\\right]$ \n",
    "\n",
    "\n",
    "\n",
    "The function should take a networkX Graph and a partitioning as inputs and return the modularity."
   ]
  },
  {
   "cell_type": "code",
   "execution_count": null,
   "metadata": {},
   "outputs": [],
   "source": [
    "\"\"\"\n",
    "def compute_modularity(G,partitioning):\n",
    "    L = G.number_of_edges()\n",
    "    M = 0\n",
    "    communities = set(partitioning.values())\n",
    "\n",
    "    for community in communities:\n",
    "        nodes_in_community = [node for node, community_id in partitioning.items() if community_id == community]\n",
    "        subgraph = G.subgraph(nodes_in_community)\n",
    "        k_c = sum(dict(subgraph.degree()).values())\n",
    "        L_c = subgraph.number_of_edges()\n",
    "        M += L_c / L - (k_c / (2 * L)) ** 2\n",
    "\n",
    "    return M\n",
    "\"\"\""
   ]
  },
  {
   "cell_type": "markdown",
   "metadata": {},
   "source": [
    "3. Explain in your own words the concept of modularity **REFRASE**\n",
    "\n",
    "Modularity is a measure of the structure of a network, which is a collection of nodes (also known as vertices) and the edges (also known as links) that connect them. The concept of modularity is based on the idea that a well-connected network can be divided into groups of nodes, known as communities or clusters, where the nodes within each group are more densely connected to each other than to nodes outside the group.\n",
    "\n",
    "Modularity is a measure of how well a network can be divided into such communities. Specifically, modularity quantifies the difference between the number of edges within communities and the expected number of edges within communities if the edges were placed randomly, while preserving the degree distribution of the nodes. In other words, modularity measures the extent to which the edges in a network are concentrated within communities, rather than being distributed randomly throughout the network.\n",
    "\n",
    "Modularity is typically expressed as a number between -1 and 1. A high positive value of modularity indicates that the network is highly modular, with many densely connected communities, while a low or negative value indicates that the network is less modular, with communities that are not well-defined. The concept of modularity has many applications in network science, including community detection, network visualization, and network comparison."
   ]
  },
  {
   "cell_type": "markdown",
   "metadata": {},
   "source": [
    "4. Compute the modularity of the Karate club split partitioning using the function you just wrote"
   ]
  },
  {
   "cell_type": "code",
   "execution_count": null,
   "metadata": {},
   "outputs": [],
   "source": [
    "import networkx as nx\n",
    "\n",
    "def compute_modularity(G,partitioning):\n",
    "    L = G.number_of_edges()\n",
    "    M = 0\n",
    "    communities = set(partitioning.values())\n",
    "\n",
    "    for community in communities:\n",
    "        nodes_in_community = [node for node, community_id in partitioning.items() if community_id == community]\n",
    "        subgraph = G.subgraph(nodes_in_community)\n",
    "        k_c = sum(dict(subgraph.degree()).values())\n",
    "        L_c = subgraph.number_of_edges()\n",
    "        M += L_c / L - (k_c / (2 * L)) ** 2\n",
    "\n",
    "    return M\n",
    "\n",
    "#We start by loading the Karate club graph\n",
    "G = nx.karate_club_graph()\n",
    "\n",
    "#First we get the club split partitioning from the node attributes\n",
    "club_split = nx.get_node_attributes(G, \"club\")\n",
    "\n",
    "#Then we compute the modularity of the partitioning by using the function above\n",
    "modularity = compute_modularity(G, club_split)\n",
    "\n",
    "print(f\"The modularity of the Karate club split partitioning using the function is {modularity:.3f}\")"
   ]
  },
  {
   "cell_type": "markdown",
   "metadata": {},
   "source": [
    "5. We will now perform a small randomization experiment to assess if the modularity you just computed is statitically different from 0. To do so, we will implement the double edge swap algorithm. Given a network G, this algorithm creates a new network, such that each node has exactly the same degree as in the original network, but different connections. Here is how the algorithm works.\n",
    "\n",
    "    a. Create an identical copy of your original network.\n",
    "    \n",
    "    b. Consider two edges in your new network (u,v) and (x,y), such that u!=v and v!=x.\n",
    "    \n",
    "    c. If none of edges (u,y) and (x,v) exists already, add them to the network and remove edges (u,v) and (x,y).\n",
    "    \n",
    "Repeat steps b. and c. to achieve at least N swaps (I suggest N to be larger than the number of edges)."
   ]
  },
  {
   "cell_type": "markdown",
   "metadata": {},
   "source": [
    "## Part 3: TF-IDF"
   ]
  },
  {
   "cell_type": "code",
   "execution_count": null,
   "metadata": {},
   "outputs": [],
   "source": []
  }
 ],
 "metadata": {
  "kernelspec": {
   "display_name": "Python 3 (ipykernel)",
   "language": "python",
   "name": "python3"
  },
  "language_info": {
   "codemirror_mode": {
    "name": "ipython",
    "version": 3
   },
   "file_extension": ".py",
   "mimetype": "text/x-python",
   "name": "python",
   "nbconvert_exporter": "python",
   "pygments_lexer": "ipython3",
   "version": "3.9.7"
  }
 },
 "nbformat": 4,
 "nbformat_minor": 4
}
